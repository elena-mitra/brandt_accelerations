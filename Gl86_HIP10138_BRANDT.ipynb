{
 "cells": [
  {
   "cell_type": "code",
   "execution_count": 1,
   "metadata": {},
   "outputs": [],
   "source": [
    "import pandas as pd\n",
    "import numpy as np\n",
    "\n",
    "from astropy import units as u"
   ]
  },
  {
   "cell_type": "code",
   "execution_count": 2,
   "metadata": {},
   "outputs": [],
   "source": [
    "# download data\n",
    "catalog = pd.read_csv('Full-Catalog_WDS-HIRES-New-Chisq.csv') #Brandt Hipparcos- Gaia Catalog of Accelerations"
   ]
  },
  {
   "cell_type": "code",
   "execution_count": 8,
   "metadata": {},
   "outputs": [
    {
     "data": {
      "text/html": [
       "<div>\n",
       "<style scoped>\n",
       "    .dataframe tbody tr th:only-of-type {\n",
       "        vertical-align: middle;\n",
       "    }\n",
       "\n",
       "    .dataframe tbody tr th {\n",
       "        vertical-align: top;\n",
       "    }\n",
       "\n",
       "    .dataframe thead th {\n",
       "        text-align: right;\n",
       "    }\n",
       "</style>\n",
       "<table border=\"1\" class=\"dataframe\">\n",
       "  <thead>\n",
       "    <tr style=\"text-align: right;\">\n",
       "      <th></th>\n",
       "      <th>9907</th>\n",
       "    </tr>\n",
       "  </thead>\n",
       "  <tbody>\n",
       "    <tr>\n",
       "      <th>hip_id</th>\n",
       "      <td>10138.000000</td>\n",
       "    </tr>\n",
       "    <tr>\n",
       "      <th>radial_velocity</th>\n",
       "      <td>55.226982</td>\n",
       "    </tr>\n",
       "    <tr>\n",
       "      <th>pmra_hip</th>\n",
       "      <td>2091.883000</td>\n",
       "    </tr>\n",
       "    <tr>\n",
       "      <th>pmdec_hip</th>\n",
       "      <td>654.345200</td>\n",
       "    </tr>\n",
       "    <tr>\n",
       "      <th>pmra_gaia</th>\n",
       "      <td>2124.853000</td>\n",
       "    </tr>\n",
       "    <tr>\n",
       "      <th>pmdec_gaia</th>\n",
       "      <td>638.091550</td>\n",
       "    </tr>\n",
       "    <tr>\n",
       "      <th>pmra_hg</th>\n",
       "      <td>2106.955000</td>\n",
       "    </tr>\n",
       "    <tr>\n",
       "      <th>pmdec_hg</th>\n",
       "      <td>641.619450</td>\n",
       "    </tr>\n",
       "    <tr>\n",
       "      <th>parallax_gaia</th>\n",
       "      <td>92.715950</td>\n",
       "    </tr>\n",
       "    <tr>\n",
       "      <th>epoch_ra_gaia</th>\n",
       "      <td>2015.771176</td>\n",
       "    </tr>\n",
       "    <tr>\n",
       "      <th>epoch_dec_gaia</th>\n",
       "      <td>2015.753104</td>\n",
       "    </tr>\n",
       "    <tr>\n",
       "      <th>epoch_ra_hip</th>\n",
       "      <td>1991.226010</td>\n",
       "    </tr>\n",
       "    <tr>\n",
       "      <th>epoch_dec_hip</th>\n",
       "      <td>1991.377859</td>\n",
       "    </tr>\n",
       "  </tbody>\n",
       "</table>\n",
       "</div>"
      ],
      "text/plain": [
       "                         9907\n",
       "hip_id           10138.000000\n",
       "radial_velocity     55.226982\n",
       "pmra_hip          2091.883000\n",
       "pmdec_hip          654.345200\n",
       "pmra_gaia         2124.853000\n",
       "pmdec_gaia         638.091550\n",
       "pmra_hg           2106.955000\n",
       "pmdec_hg           641.619450\n",
       "parallax_gaia       92.715950\n",
       "epoch_ra_gaia     2015.771176\n",
       "epoch_dec_gaia    2015.753104\n",
       "epoch_ra_hip      1991.226010\n",
       "epoch_dec_hip     1991.377859"
      ]
     },
     "execution_count": 8,
     "metadata": {},
     "output_type": "execute_result"
    }
   ],
   "source": [
    "## Input HIP ID :\n",
    "hipid = 10138\n",
    "\n",
    "#code to filter for the input hipid\n",
    "catalog_select = catalog.hip_id== hipid\n",
    "##the following code is only necessary if want to check actual column contents for the specified hip id\n",
    "hip_select = catalog.loc[catalog_select,['hip_id','radial_velocity','pmra_hip','pmdec_hip','pmra_gaia',\n",
    "                                              'pmdec_gaia','pmra_hg','pmdec_hg','parallax_gaia', \n",
    "                            'epoch_ra_gaia', 'epoch_dec_gaia', 'epoch_ra_hip','epoch_dec_hip']].T\n",
    "hip_select"
   ]
  },
  {
   "cell_type": "code",
   "execution_count": 4,
   "metadata": {},
   "outputs": [],
   "source": [
    "## Code to pull values for acceleration calculation and convert to astropy units\n",
    "\n",
    "pmrahip = hip_select['pmra_hip'].iloc[0]*u.mas/u.yr #mas/yr\n",
    "pmragaia = hip_select['pmra_gaia'].iloc[0]*u.mas/u.yr #mas/yr\n",
    "pmrahg = hip_select['pmra_hg'].iloc[0]*u.mas/u.yr #mas/yr\n",
    "pmdechip = hip_select['pmdec_hip'].iloc[0]*u.mas/u.yr #mas/yr\n",
    "pmdecgaia = hip_select['pmdec_gaia'].iloc[0]*u.mas/u.yr #mas/yr\n",
    "pmdechg = hip_select['pmdec_hg'].iloc[0]*u.mas/u.yr #mas/yr\n",
    "\n",
    "rahipepoch = hip_select['epoch_ra_hip'].iloc[0]*u.yr #yr\n",
    "ragaiaepoch = hip_select['epoch_ra_gaia'].iloc[0]*u.yr #yr\n",
    "dechipepoch = hip_select['epoch_dec_hip'].iloc[0]*u.yr #yr\n",
    "decgaiaepoch = hip_select['epoch_ra_gaia'].iloc[0]*u.yr #yr\n",
    "\n",
    "plx = (hip_select['parallax_gaia'].iloc[0])*u.mas #parallax in mas\n",
    "\n",
    "## Convert parallax to parsec\n",
    "d = plx.to(u.parsec, equivalencies = u.parallax())#parallax in parsecs"
   ]
  },
  {
   "cell_type": "code",
   "execution_count": 6,
   "metadata": {},
   "outputs": [
    {
     "name": "stdout",
     "output_type": "stream",
     "text": [
      "pmragaia  2124.853 mas / yr\n",
      "d  10.785630735596193 pc\n",
      "acc_ra_num 915.0153776130282 mas pc / yr\n",
      "acc_ra_den 12.272583215731515 yr\n",
      "HIP 10138 acceleration: 76.01001849953391 mas pc / yr2\n"
     ]
    },
    {
     "data": {
      "text/latex": [
       "$76.010018 \\; \\mathrm{\\frac{mas\\,pc}{yr^{2}}}$"
      ],
      "text/plain": [
       "<Quantity 76.0100185 mas pc / yr2>"
      ]
     },
     "execution_count": 6,
     "metadata": {},
     "output_type": "execute_result"
    }
   ],
   "source": [
    "# Calculate accelerations (using d and 4.74 to convert to linear units)\n",
    "\n",
    "acc_ra_num = (pmragaia-pmrahg)*4.74*d # ∆µ (in mas/yr) * parallax (in parsec) converted to (mas pc/yr)\n",
    "acc_ra_den = (ragaiaepoch-rahipepoch)/2\n",
    "\n",
    "acc_dec_num = (pmdecgaia-pmdechg)*4.74*d\n",
    "acc_dec_den = (decgaiaepoch-dechipepoch)/2\n",
    "\n",
    "acc_ra = acc_ra_num/acc_ra_den\n",
    "acc_dec = acc_dec_num/acc_dec_den\n",
    "acc = np.sqrt(acc_ra**2 + acc_dec**2) #vector add acceleration components, and convert to liner units using 4.74\n",
    "\n",
    "\n",
    "print('pmragaia ', pmragaia)\n",
    "print('d ',d)\n",
    "print('acc_ra_num',acc_ra_num)\n",
    "print('acc_ra_den',acc_ra_den)\n",
    "\n",
    "print('HIP %s acceleration:'%hipid, acc)\n",
    "\n",
    "acc"
   ]
  },
  {
   "cell_type": "code",
   "execution_count": null,
   "metadata": {},
   "outputs": [],
   "source": []
  }
 ],
 "metadata": {
  "kernelspec": {
   "display_name": "Python 3",
   "language": "python",
   "name": "python3"
  },
  "language_info": {
   "codemirror_mode": {
    "name": "ipython",
    "version": 3
   },
   "file_extension": ".py",
   "mimetype": "text/x-python",
   "name": "python",
   "nbconvert_exporter": "python",
   "pygments_lexer": "ipython3",
   "version": "3.6.4"
  }
 },
 "nbformat": 4,
 "nbformat_minor": 2
}
